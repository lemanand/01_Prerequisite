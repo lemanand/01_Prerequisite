{
 "cells": [
  {
   "cell_type": "markdown",
   "metadata": {},
   "source": [
    "# __1. 파이썬(Python)과 아나콘다(Anaconda) 차이점__"
   ]
  },
  {
   "cell_type": "markdown",
   "metadata": {},
   "source": [
    "__1.1 파이썬은 Python의 공식 홈페이지에서 받을 수 있으며, pip 툴만을 포함하고 있습니다.__\n",
    "- 필요한 패키지나 라이브러리 등을 설치할 때 모두 수동으로 수행해야 합니다.\n",
    "\n",
    "__1.2 아나콘다는 파이썬의 기본 패키지와 각종 수학/과학 라이브러리들을 같이 제공합니다.__\n",
    "- 아나콘다에 포함된 대표적인 툴들은 pip, pandas, numpy, scipy, sklearn, matplotlib, Jupyter Notebook 등이 입니다."
   ]
  },
  {
   "cell_type": "markdown",
   "metadata": {},
   "source": [
    "<img src=\"Images/01_Python_Anaconda.png\" width=\"700\" hight=\"400\" align=\"left\">"
   ]
  },
  {
   "cell_type": "code",
   "execution_count": null,
   "metadata": {},
   "outputs": [],
   "source": []
  },
  {
   "cell_type": "markdown",
   "metadata": {},
   "source": [
    "__1.3 설치시 유의 사항__\n",
    "- 파이썬이나 아나콘다 중 하나만 설치하는 것이 좋습니다.\n",
    "- 둘 다 설치할 경우에는 중복되는 파일과 운영체제의 환경변수 충돌 등의 문제가 발생할 수도 있습니다.\n",
    "\n",
    "__1.4 어떤 설치 방식을 선택할 것인가?__\n",
    "- 인공지능이나 빅데이터 관련 개발을 할 경우에는 아나콘다를 설치하는 것이 더 유리합니다. \n",
    "- 일일이 라이브러리들을 설치하다보면 파이썬의 기본 패키지만 설치해도 무관합니다. "
   ]
  },
  {
   "cell_type": "markdown",
   "metadata": {},
   "source": [
    "# __2. 아나콘다(Anaconda) 설치__"
   ]
  },
  {
   "cell_type": "markdown",
   "metadata": {},
   "source": [
    "__2.1 [아나콘다 배포판을](https://www.anaconda.com/distribution/) 다운로드를 합니다.__"
   ]
  },
  {
   "cell_type": "markdown",
   "metadata": {},
   "source": [
    "<img src=\"Images/02_Anaconda_01.png\" width=\"600\" hight=\"400\" align=\"left\">"
   ]
  },
  {
   "cell_type": "markdown",
   "metadata": {},
   "source": [
    "__2.2 Anaconda 설치파일(예: Anaconda3-2019.03-Windows-x86_64)을 아래와 같이 실행시킵니다.__"
   ]
  },
  {
   "cell_type": "markdown",
   "metadata": {},
   "source": [
    "<img src=\"Images/03_Anaconda_02.png\" width=\"500\" hight=\"300\"  align=\"left\">"
   ]
  },
  {
   "cell_type": "code",
   "execution_count": null,
   "metadata": {},
   "outputs": [],
   "source": []
  },
  {
   "cell_type": "markdown",
   "metadata": {},
   "source": [
    "<img src=\"Images/04_Anaconda_03.png\" width=\"500\" hight=\"300\"  align=\"left\">"
   ]
  },
  {
   "cell_type": "code",
   "execution_count": null,
   "metadata": {},
   "outputs": [],
   "source": []
  },
  {
   "cell_type": "markdown",
   "metadata": {},
   "source": [
    "<img src=\"Images/05_Anaconda_04.png\" width=\"500\" hight=\"300\"  align=\"left\">"
   ]
  },
  {
   "cell_type": "code",
   "execution_count": null,
   "metadata": {},
   "outputs": [],
   "source": []
  },
  {
   "cell_type": "markdown",
   "metadata": {},
   "source": [
    "<img src=\"Images/06_Anaconda_05.png\" width=\"500\" hight=\"300\"  align=\"left\">"
   ]
  },
  {
   "cell_type": "code",
   "execution_count": null,
   "metadata": {},
   "outputs": [],
   "source": []
  },
  {
   "cell_type": "markdown",
   "metadata": {},
   "source": [
    "<img src=\"Images/07_Anaconda_06.png\" width=\"500\" hight=\"300\"  align=\"left\">"
   ]
  },
  {
   "cell_type": "code",
   "execution_count": null,
   "metadata": {},
   "outputs": [],
   "source": []
  },
  {
   "cell_type": "markdown",
   "metadata": {},
   "source": [
    "<img src=\"Images/08_Anaconda_07.png\" width=\"500\" hight=\"300\"  align=\"left\">"
   ]
  },
  {
   "cell_type": "code",
   "execution_count": null,
   "metadata": {},
   "outputs": [],
   "source": []
  },
  {
   "cell_type": "markdown",
   "metadata": {},
   "source": [
    "<img src=\"Images/09_Anaconda_08.png\" width=\"500\" hight=\"300\"  align=\"left\">"
   ]
  },
  {
   "cell_type": "code",
   "execution_count": null,
   "metadata": {},
   "outputs": [],
   "source": []
  },
  {
   "cell_type": "markdown",
   "metadata": {},
   "source": [
    "<img src=\"Images/10_Anaconda_09.png\" width=\"500\" hight=\"300\"  align=\"left\">"
   ]
  },
  {
   "cell_type": "code",
   "execution_count": null,
   "metadata": {},
   "outputs": [],
   "source": []
  },
  {
   "cell_type": "markdown",
   "metadata": {},
   "source": [
    "<img src=\"Images/11_Anaconda_10.png\" width=\"500\" hight=\"300\"  align=\"left\">"
   ]
  },
  {
   "cell_type": "code",
   "execution_count": null,
   "metadata": {},
   "outputs": [],
   "source": []
  },
  {
   "cell_type": "markdown",
   "metadata": {},
   "source": [
    "__2.3 Anaconda 설치를 확인__"
   ]
  },
  {
   "cell_type": "markdown",
   "metadata": {},
   "source": [
    "- 설치가 완료되면 Finish을 누르고 윈도우 검색창에 Anaconda Prompt 이나 Anaconda Powershell Prompt 검색합니다.\n",
    "\n",
    "<img src=\"Images/12_Confirm_01.png\" width=\"300\" hight=\"300\"  align=\"left\">"
   ]
  },
  {
   "cell_type": "markdown",
   "metadata": {},
   "source": [
    "- Anaconda Powershell Prompt창에서 __python --version__ 을 입력하여 __Python 3.7.3__ 로 표시되면 설치 완료입니다.\n",
    "\n",
    "<img src=\"Images/13_Confirm_02.png\" width=\"500\" hight=\"300\"  align=\"left\">"
   ]
  },
  {
   "cell_type": "markdown",
   "metadata": {},
   "source": [
    "- 추가로 Anaconda Powershell Prompt창에서 python 을 입력한 뒤에 파이쎤에서 __print(\"Hello World!\")__ 명력을 진행시킵니다.\n",
    "- Hello World!로 결과를 확인하여 __exit()__ 명력을 수행합니다.\n",
    "\n",
    "<img src=\"Images/14_Confirm_03.png\" width=\"800\" hight=\"300\"  align=\"left\">"
   ]
  },
  {
   "cell_type": "markdown",
   "metadata": {},
   "source": [
    "# __3. 주피터 노트북(Jupyter Notebook) 실행__"
   ]
  },
  {
   "cell_type": "markdown",
   "metadata": {},
   "source": [
    "__3.1 Anaconda Navigator 실행__"
   ]
  },
  {
   "cell_type": "markdown",
   "metadata": {},
   "source": [
    "- 윈도우 검색창에 Anaconda Navigator 검색하여 실행시킵니다.\n",
    "\n",
    "<img src=\"Images/15_Confirm_04.png\" width=\"300\" hight=\"300\"  align=\"left\">"
   ]
  },
  {
   "cell_type": "code",
   "execution_count": null,
   "metadata": {},
   "outputs": [],
   "source": []
  },
  {
   "cell_type": "markdown",
   "metadata": {},
   "source": [
    "- Anaconda Navigator창에서 주피터 노트북을 실행합니다.\n",
    "\n",
    "<img src=\"Images/16_Jupyter_01.png\" width=\"800\" hight=\"300\"  align=\"left\">"
   ]
  },
  {
   "cell_type": "code",
   "execution_count": null,
   "metadata": {},
   "outputs": [],
   "source": []
  },
  {
   "cell_type": "markdown",
   "metadata": {},
   "source": [
    "<img src=\"Images/17_Jupyter_02.png\" width=\"800\" hight=\"300\"  align=\"left\">"
   ]
  },
  {
   "cell_type": "code",
   "execution_count": null,
   "metadata": {},
   "outputs": [],
   "source": []
  }
 ],
 "metadata": {
  "kernelspec": {
   "display_name": "Python 3",
   "language": "python",
   "name": "python3"
  },
  "language_info": {
   "codemirror_mode": {
    "name": "ipython",
    "version": 3
   },
   "file_extension": ".py",
   "mimetype": "text/x-python",
   "name": "python",
   "nbconvert_exporter": "python",
   "pygments_lexer": "ipython3",
   "version": "3.7.1"
  }
 },
 "nbformat": 4,
 "nbformat_minor": 2
}
