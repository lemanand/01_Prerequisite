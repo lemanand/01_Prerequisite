{
 "cells": [
  {
   "cell_type": "markdown",
   "metadata": {},
   "source": [
    "# 1.Install SAS SWAT (Scripting Wrapper for Analytics Transfer) package"
   ]
  },
  {
   "cell_type": "markdown",
   "metadata": {},
   "source": [
    "__1.1 Anaconda Powershell Prompt 실행__\n",
    "-  윈도우 검색창에 Anaconda Prompt 이나 Anaconda Powershell Prompt 검색하여 관리자(마우스 우클릭) 모드로 실행시킵니다.\n",
    "\n",
    "<img src=\"Images/12_Confirm_01.png\" width=\"300\" hight=\"300\"  align=\"left\">"
   ]
  },
  {
   "cell_type": "code",
   "execution_count": null,
   "metadata": {},
   "outputs": [],
   "source": []
  },
  {
   "cell_type": "markdown",
   "metadata": {},
   "source": [
    "__1.2 SWAT 패키지를 설치__\n",
    "- conda(Anaconda 설치한 경우)나 pip 툴을 통해 SWAT 패키지를 설치 가능합니다.\n",
    "- Anaconda Powershell Prompt에서 아래 명령 중에 하나만 실행하면 됩니다.\n",
    "\n",
    "__conda install -c sas-institute swat__\n",
    "\n",
    "_or_\n",
    "\n",
    "__pip install swat__\n",
    "\n",
    "<img src=\"Images/18_Swat_01.png\" width=\"800\" hight=\"300\"  align=\"left\">\n"
   ]
  },
  {
   "cell_type": "markdown",
   "metadata": {},
   "source": [
    "__1.3 설치한 SWAT 패키지를 확인__\n",
    "\n",
    "__conda list__ 명령을 입력합니다.\n",
    "\n",
    "<img src=\"Images/19_Swat_02.png\" width=\"800\" hight=\"300\"  align=\"left\">\n",
    "\n",
    "<img src=\"Images/20_Swat_03.png\" width=\"800\" hight=\"300\"  align=\"left\">\n"
   ]
  },
  {
   "cell_type": "markdown",
   "metadata": {},
   "source": [
    "# 2. Install SAS DLPy (Deep Learning Python) package"
   ]
  },
  {
   "cell_type": "markdown",
   "metadata": {},
   "source": [
    "__2.1 Anaconda Powershell Prompt 실행__\n",
    "-  윈도우 검색창에 Anaconda Prompt 이나 Anaconda Powershell Prompt 검색하여 관리자(마우스 우클릭) 모드로 실행시킵니다.\n",
    "\n",
    "<img src=\"Images/12_Confirm_01.png\" width=\"300\" hight=\"300\"  align=\"left\">"
   ]
  },
  {
   "cell_type": "code",
   "execution_count": null,
   "metadata": {},
   "outputs": [],
   "source": []
  },
  {
   "cell_type": "markdown",
   "metadata": {},
   "source": [
    "__2.2 DLPy 패키지를 설치__\n",
    "- conda(Anaconda 설치한 경우)나 pip 툴을 통해 DLPy 패키지를 설치 가능합니다.\n",
    "- Anaconda Powershell Prompt에서 아래 명령 중에 하나만 실행하면 됩니다.\n",
    "\n",
    "__conda install -c sas-institute sas-dlpy__\n",
    "\n",
    "_or_\n",
    "\n",
    "__pip install sas-dlpy__\n",
    "\n",
    "<img src=\"Images/21_Dlpy_01.png\" width=\"800\" hight=\"300\"  align=\"left\">"
   ]
  },
  {
   "cell_type": "markdown",
   "metadata": {},
   "source": [
    "__2.3 설치한 DLPY 패키지를 확인__\n",
    "\n",
    "__ list__ 명령을 입력합니다.\n",
    "\n",
    "<img src=\"Images/22_Dlpy_02.png\" width=\"800\" hight=\"300\"  align=\"left\">"
   ]
  },
  {
   "cell_type": "code",
   "execution_count": null,
   "metadata": {},
   "outputs": [],
   "source": []
  },
  {
   "cell_type": "code",
   "execution_count": null,
   "metadata": {},
   "outputs": [],
   "source": []
  }
 ],
 "metadata": {
  "kernelspec": {
   "display_name": "Python 3",
   "language": "python",
   "name": "python3"
  },
  "language_info": {
   "codemirror_mode": {
    "name": "ipython",
    "version": 3
   },
   "file_extension": ".py",
   "mimetype": "text/x-python",
   "name": "python",
   "nbconvert_exporter": "python",
   "pygments_lexer": "ipython3",
   "version": "3.7.1"
  }
 },
 "nbformat": 4,
 "nbformat_minor": 2
}
